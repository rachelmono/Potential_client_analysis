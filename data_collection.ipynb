{
 "cells": [
  {
   "cell_type": "markdown",
   "metadata": {},
   "source": [
    "This is the process of web scraping using beautiful soup."
   ]
  },
  {
   "cell_type": "markdown",
   "metadata": {},
   "source": [
    "Totally scraped 10,000 records"
   ]
  },
  {
   "cell_type": "markdown",
   "metadata": {},
   "source": [
    "### 1. Email campaign (Sample)"
   ]
  },
  {
   "cell_type": "code",
   "execution_count": 4,
   "metadata": {},
   "outputs": [
    {
     "name": "stderr",
     "output_type": "stream",
     "text": [
      "C:\\Users\\Rachel\\Anaconda3\\lib\\site-packages\\requests\\__init__.py:91: RequestsDependencyWarning: urllib3 (1.26.2) or chardet (3.0.4) doesn't match a supported version!\n",
      "  RequestsDependencyWarning)\n"
     ]
    }
   ],
   "source": [
    "import json\n",
    "from bs4 import BeautifulSoup as bs\n",
    "import requests\n",
    "import urllib.request\n",
    "soup=bs(r.text, \"html.parser\")\n",
    "r=requests.get(\"https://www.youtube.com/c/DoctorKlaper/about\")\n",
    "r.text\n",
    "r=requests.get(\"https://www.google.com/search?rlz=1C1CHBF_enUS868US868&sxsrf=ALeKk02_5LEr6RV1HTmJMpfUmpWRELO4Kg%3A1605570805424&ei=9RCzX5SrGYO6sgX3pYbQCg&q=site%3Ahttps%3A%2F%2Fwww.tiktok.com%2F%40+intext%3A%22%40gmail.com%22+AND+%22doctor%22&oq=site%3Ahttps%3A%2F%2Fwww.tiktok.com%2F%40+intext%3A%22%40gmail.com%22+AND+%22doctor%22&gs_lcp=CgZwc3ktYWIQA1DhClibR2DGggFoAnAAeACAAXmIAaQJkgEEMTMuMpgBAKABAaoBB2d3cy13aXrAAQE&sclient=psy-ab&ved=0ahUKEwjU-ZKsoYjtAhUDnawKHfeSAaoQ4dUDCA0&uact=5\")\n",
    "r.encoding=\"utf-8\""
   ]
  },
  {
   "cell_type": "code",
   "execution_count": 1,
   "metadata": {},
   "outputs": [],
   "source": [
    "import pandas as pd"
   ]
  },
  {
   "cell_type": "code",
   "execution_count": 40,
   "metadata": {},
   "outputs": [],
   "source": [
    "df=pd.read_csv(\"e1.csv\", header=None,encoding='iso-8859-1')"
   ]
  },
  {
   "cell_type": "code",
   "execution_count": 41,
   "metadata": {},
   "outputs": [],
   "source": [
    "a=[i.split(' ') for i in df[0]]"
   ]
  },
  {
   "cell_type": "code",
   "execution_count": 42,
   "metadata": {},
   "outputs": [],
   "source": [
    "def find_email(a):\n",
    "    for i in a:\n",
    "        for j in i:\n",
    "            if '@gmail.com' in j:\n",
    "                print(j)"
   ]
  },
  {
   "cell_type": "code",
   "execution_count": 43,
   "metadata": {},
   "outputs": [],
   "source": [
    "def find_name(a):\n",
    "    for i in a:\n",
    "        for j in i:\n",
    "            if '@' in j:\n",
    "                print(j)"
   ]
  },
  {
   "cell_type": "code",
   "execution_count": 44,
   "metadata": {
    "collapsed": true
   },
   "outputs": [
    {
     "name": "stdout",
     "output_type": "stream",
     "text": [
      "Theflyfootdoctor@gmail.com.\n",
      "footdocdana@gmail.com.\n",
      "Doctor.nabhan@gmail.com.\n",
      "Ninagraypress@gmail.com.\n",
      "amybelle.134@gmail.com.\n",
      "lifecareclinicynr@gmail.com.\n",
      "itsmaya2960@gmail.com\n",
      "ashiiaisha085@gmail.com\n",
      "ashiiaisha085@gmail.com\n",
      "Doctor.nabhan@gmail.com\n",
      "kevinmak35@gmail.com\n",
      "nicoladiggi@gmail.com\n",
      "bathroomanatomy@gmail.com...\n",
      "Ninagraypress@gmail.com.\n",
      "shnmolina05@gmail.com.\n",
      "Nadialaydrus@gmail.com.\n",
      "Ninagraypress@gmail.com.\n",
      "workofamagician@gmail.com.\n",
      "Aaqshah@gmail.com.\n",
      "footdocdana@gmail.com\n",
      "roncontato@gmail.com\n",
      "farahcontact20@gmail.com\n",
      "asifsukhera143ar@gmail.com\n",
      "Sumesach@gmail.com.\n",
      "gmail.malikalisha309@gmail.com.\n",
      "Ninagraypress@gmail.com.\n",
      "JhnnySins@gmail.com.\n"
     ]
    }
   ],
   "source": [
    "find_email(a)"
   ]
  },
  {
   "cell_type": "code",
   "execution_count": 45,
   "metadata": {},
   "outputs": [
    {
     "name": "stdout",
     "output_type": "stream",
     "text": [
      "(@theflyfootdoctor)\n",
      "Theflyfootdoctor@gmail.com.\n",
      "@footdocdana.\n",
      "footdocdana@gmail.com.\n",
      "@lifeofadoctor.\n",
      "@doctorfayez\n",
      "(@nabhanmasry)\n",
      "Doctor.nabhan@gmail.com.\n",
      "@doctorninagray.\n",
      "Ninagraypress@gmail.com.\n",
      "@dor_the_grayt.\n",
      "student@anmc\n",
      "amybelle.134@gmail.com.\n",
      "@INSTAGRAM\n",
      "@INSTAGRAM\n",
      "lifecareclinicynr@gmail.com.\n",
      "itsmaya2960@gmail.com\n",
      "ashiiaisha085@gmail.com\n",
      "(@ashiii059)\n",
      "ashiiaisha085@gmail.com\n",
      "(@ashiii059).\n",
      "Doctor.nabhan@gmail.com\n",
      "kevinmak35@gmail.com\n",
      "@kvinmak\n",
      "@nic_the.animal.doc.\n",
      "nicoladiggi@gmail.com\n",
      "bathroomanatomy@gmail.com...\n",
      "@doctorninagray.\n",
      "Ninagraypress@gmail.com.\n",
      "@footdocdana.\n",
      "footdocdana@gmail.\n",
      "shnmolina05@gmail.com.\n",
      "@Nadialaydrus\n",
      "Nadialaydrus@gmail.com.\n",
      "Ninagraypress@gmail.com.\n",
      "Ninagraypress@g...\n",
      "workofamagician@gmail.com.\n",
      "@Aaqshah\n",
      "Aaqshah@gmail.com.\n",
      "@aaqshahh.\n",
      "footdocdana@gmail.com\n",
      "??INSTA@bindu_sangi?\n",
      "roncontato@gmail.com\n",
      "@r.farooh.\n",
      "farahcontact20@gmail.com\n",
      "@lifeofadoctor.\n",
      "@doctorfayez\n",
      "@lifeofadoctor.\n",
      "@doctorfayez\n",
      "@dangr.doctor.asif.\n",
      "asifsukhera143ar@gmail.com\n",
      "@drsumedha.\n",
      "Sumesach@gmail.com.\n",
      "@dr.alishamalik.\n",
      "gmail.malikalisha309@gmail.com.\n",
      "@doctorninagray.\n",
      "Ninagraypress@gmail.com.\n",
      "JhnnySins@gmail.com.\n"
     ]
    }
   ],
   "source": [
    "find_name(a)"
   ]
  },
  {
   "cell_type": "markdown",
   "metadata": {},
   "source": [
    "### 2. Youtubers data collection"
   ]
  },
  {
   "cell_type": "code",
   "execution_count": 1,
   "metadata": {},
   "outputs": [
    {
     "name": "stderr",
     "output_type": "stream",
     "text": [
      "C:\\Users\\Rachel\\Anaconda3\\lib\\site-packages\\requests\\__init__.py:91: RequestsDependencyWarning: urllib3 (1.26.2) or chardet (3.0.4) doesn't match a supported version!\n",
      "  RequestsDependencyWarning)\n"
     ]
    }
   ],
   "source": [
    "import json\n",
    "from bs4 import BeautifulSoup as bs\n",
    "import requests"
   ]
  },
  {
   "cell_type": "code",
   "execution_count": 3,
   "metadata": {},
   "outputs": [],
   "source": [
    "# links=[]\n",
    "# titles=[]\n",
    "# Channel_type=[]\n",
    "# s=[]\n",
    "# r = requests.get('https://www.youtube.com/c/AllieSherlockMusic/videos')\n",
    "# soup=bs(r.text, \"html.parser\")\n",
    "# a=soup.find_all(\"span\", class_=\"watch-title\")\n",
    "# # importing the libraries \n",
    "# from bs4 import BeautifulSoup \n",
    "# import requests \n",
    "  \n",
    "# # creating function \n",
    "# def scrape_info(url): \n",
    "      \n",
    "#     # getting the request from url \n",
    "#     r = requests.get(url) \n",
    "      \n",
    "#     # converting the text \n",
    "#     s = BeautifulSoup(r.text, \"html.parser\") \n",
    "      \n",
    "#     # finding meta info for title \n",
    "#     title = s.find(\"span\", class_=\"watch-title\").text.replace(\"\\n\", \"\") \n",
    "      \n",
    "#     # finding meta info for views \n",
    "#     views = s.find(\"div\", class_=\"watch-view-count\").text \n",
    "      \n",
    "#     # finding meta info for likes \n",
    "#     likes = s.find(\"span\", class_=\"like-button-renderer\").span.button.text \n",
    "      \n",
    "#     # saving this data in dictionary \n",
    "#     data = {'title':title, 'views':views, 'likes':likes} \n",
    "      \n",
    "#     # returning the dictionary \n",
    "#     return data "
   ]
  },
  {
   "cell_type": "markdown",
   "metadata": {},
   "source": [
    "- Pipelins"
   ]
  },
  {
   "cell_type": "code",
   "execution_count": 2,
   "metadata": {},
   "outputs": [],
   "source": [
    "#pipelines:\n",
    "links=[]\n",
    "titles=[]\n",
    "Channel_type=[]\n",
    "s=[]\n",
    "r = requests.get('https://channelcrawler.com/eng/results/1291777')\n",
    "soup=bs(r.text, \"html.parser\")\n",
    "a=soup.find_all(\"a\", href=True)\n",
    "Channel_type=[i.get_text().strip(':') for i in soup.find_all('b')]\n",
    "titles=([str(i).split('\\\"')[5] for i in soup.find_all('h4')])\n",
    "for i in a:\n",
    "    if 'http://www.youtube.com/channel' in i['href']:\n",
    "        links.append(i['href'])\n",
    "for i in range(0, len(soup.find_all(\"p\")[:40]), 2):\n",
    "    s.append(soup.find_all(\"p\")[i])    \n",
    "for i in s:\n",
    "    subscribers=[' '.join(' '.join(i.get_text().split()).split()[0:2])]\n",
    "    videos=[' '.join(' '.join(i.get_text().split()).split()[2:4])]\n",
    "    total_views=[' '.join(' '.join(i.get_text().split()).split()[4:7])]\n",
    "    last_video=[' '.join(' '.join(i.get_text().split()).split()[7:])]\n",
    "def get_infos():    \n",
    "    for i in range(2,405):\n",
    "        r = requests.get('https://channelcrawler.com/eng/results/989679/page:'+str(i))   \n",
    "        soup=bs(r.text, \"html.parser\")\n",
    "        a=soup.find_all(\"a\", href=True)\n",
    "        Channel_type.append([i.get_text().strip(':') for i in soup.find_all('b')])\n",
    "        titles.append([str(i).split('\\\"')[5] for i in soup.find_all('h4')])\n",
    "        for i in a:\n",
    "            if 'http://www.youtube.com/channel' in i['href']:\n",
    "                links.append(i['href'])\n",
    "        for i in range(0, len(soup.find_all(\"p\")[:40]), 2):\n",
    "            s.append(soup.find_all(\"p\")[i])    \n",
    "#     for i in s:\n",
    "#         subscribers=[' '.join(' '.join(i.get_text().split()).split()[0:2])]\n",
    "#         videos=[' '.join(' '.join(i.get_text().split()).split()[2:4])]\n",
    "#         total_views=[' '.join(' '.join(i.get_text().split()).split()[4:7])]\n",
    "#         last_video=[' '.join(' '.join(i.get_text().split()).split()[7:])]"
   ]
  },
  {
   "cell_type": "code",
   "execution_count": 4,
   "metadata": {},
   "outputs": [],
   "source": [
    "get_infos()"
   ]
  },
  {
   "cell_type": "markdown",
   "metadata": {},
   "source": [
    "- data cleaning "
   ]
  },
  {
   "cell_type": "code",
   "execution_count": 5,
   "metadata": {},
   "outputs": [],
   "source": [
    "#clean links\n",
    "link_summary=[]\n",
    "for i in range(0,len(links),2):\n",
    "    link_summary.append(links[i])\n",
    "    # clean channel types\n",
    "channels=[]\n",
    "summary=[]\n",
    "for i in Channel_type[40:]:\n",
    "    for j in i:\n",
    "        channels.append(j)\n",
    "summary=Channel_type[:40]+channels\n",
    "types_summary=[]\n",
    "for i in (summary):\n",
    "    if i!=('Example Video'):\n",
    "        types_summary.append(i)\n",
    "#title cleaning\n",
    "titles2_summary=[]\n",
    "for i in titles:\n",
    "    for j in i:\n",
    "        titles2_summary.append(j)\n",
    "len(titles2_summary)\n",
    "\n",
    "titles_sum=[]\n",
    "for i in titles[20:]:\n",
    "    for j in i:       \n",
    "        titles_sum.append(j)\n",
    "titles_summary=titles[:20]+titles_sum\n",
    "#clean subscribers\n",
    "for i in s:\n",
    "    subscribers.append([' '.join(' '.join(i.get_text().split()).split()[0:2])])\n",
    "    videos.append([' '.join(' '.join(i.get_text().split()).split()[2:4])])\n",
    "    total_views.append([' '.join(' '.join(i.get_text().split()).split()[4:7])])\n",
    "    last_video.append([' '.join(' '.join(i.get_text().split()).split()[7:])])\n",
    "subscribers_summary=[''.join(i) for i in subscribers][1:]\n",
    "videos_summary=[''.join(i) for i in videos][1:]\n",
    "total_views=[''.join(i) for i in total_views][1:]\n",
    "last_video=[''.join(i) for i in last_video][1:]"
   ]
  },
  {
   "cell_type": "code",
   "execution_count": 13,
   "metadata": {},
   "outputs": [
    {
     "data": {
      "text/plain": [
       "(0, 40, 20, 808)"
      ]
     },
     "execution_count": 13,
     "metadata": {},
     "output_type": "execute_result"
    }
   ],
   "source": [
    "len(link_summary),len(types_summary),len(titles_summary), len(videos_summary)"
   ]
  },
  {
   "cell_type": "code",
   "execution_count": 117,
   "metadata": {
    "scrolled": true
   },
   "outputs": [],
   "source": [
    "#save data to datafram and csv\n",
    "df=pd.DataFrame(link_summary,columns =['links'])\n",
    "df['types']=types_summary\n",
    "df['titles']=titles_summary\n",
    "df['subscribers_summary']=subscribers_summary\n",
    "df['total_views']=total_views\n",
    "df['videos_summary']=videos_summary\n",
    "df['last_video']=last_video"
   ]
  },
  {
   "cell_type": "code",
   "execution_count": 10,
   "metadata": {
    "scrolled": false
   },
   "outputs": [
    {
     "data": {
      "text/plain": [
       "(2000, 7)"
      ]
     },
     "execution_count": 10,
     "metadata": {},
     "output_type": "execute_result"
    }
   ],
   "source": [
    "df.shape"
   ]
  },
  {
   "cell_type": "code",
   "execution_count": 11,
   "metadata": {},
   "outputs": [
    {
     "data": {
      "text/html": [
       "<div>\n",
       "<style scoped>\n",
       "    .dataframe tbody tr th:only-of-type {\n",
       "        vertical-align: middle;\n",
       "    }\n",
       "\n",
       "    .dataframe tbody tr th {\n",
       "        vertical-align: top;\n",
       "    }\n",
       "\n",
       "    .dataframe thead th {\n",
       "        text-align: right;\n",
       "    }\n",
       "</style>\n",
       "<table border=\"1\" class=\"dataframe\">\n",
       "  <thead>\n",
       "    <tr style=\"text-align: right;\">\n",
       "      <th></th>\n",
       "      <th>links</th>\n",
       "      <th>types</th>\n",
       "      <th>titles</th>\n",
       "      <th>subscribers_summary</th>\n",
       "      <th>total_views</th>\n",
       "      <th>videos_summary</th>\n",
       "      <th>last_video</th>\n",
       "    </tr>\n",
       "  </thead>\n",
       "  <tbody>\n",
       "    <tr>\n",
       "      <td>0</td>\n",
       "      <td>http://www.youtube.com/channel/UCqACjGMfxB2b64...</td>\n",
       "      <td>Science &amp; Technology</td>\n",
       "      <td>the. Amazing</td>\n",
       "      <td>18.9K Subscribers</td>\n",
       "      <td>1.47M Total Views</td>\n",
       "      <td>94 Videos</td>\n",
       "      <td>Latest Video: Dec 22 2020</td>\n",
       "    </tr>\n",
       "    <tr>\n",
       "      <td>1</td>\n",
       "      <td>http://www.youtube.com/channel/UC284lB9rQInICX...</td>\n",
       "      <td>Gaming</td>\n",
       "      <td>AllOfTheAboveEnt.</td>\n",
       "      <td>7.15K Subscribers</td>\n",
       "      <td>647K Total Views</td>\n",
       "      <td>614 Videos</td>\n",
       "      <td>Latest Video: Dec 22 2020</td>\n",
       "    </tr>\n",
       "    <tr>\n",
       "      <td>2</td>\n",
       "      <td>http://www.youtube.com/channel/UCnUzfl8L1lF3N9...</td>\n",
       "      <td>Gaming</td>\n",
       "      <td>Gopex</td>\n",
       "      <td>8.44K Subscribers</td>\n",
       "      <td>492K Total Views</td>\n",
       "      <td>353 Videos</td>\n",
       "      <td>Latest Video: Dec 22 2020</td>\n",
       "    </tr>\n",
       "    <tr>\n",
       "      <td>3</td>\n",
       "      <td>http://www.youtube.com/channel/UCqeFzFJuniKXZG...</td>\n",
       "      <td>Gaming</td>\n",
       "      <td>KINGnQUEENFLOYD</td>\n",
       "      <td>3.12K Subscribers</td>\n",
       "      <td>270K Total Views</td>\n",
       "      <td>2700 Videos</td>\n",
       "      <td>Latest Video: Dec 22 2020</td>\n",
       "    </tr>\n",
       "    <tr>\n",
       "      <td>4</td>\n",
       "      <td>http://www.youtube.com/channel/UCyAmYyI7ud62GJ...</td>\n",
       "      <td>Gaming</td>\n",
       "      <td>Frank Lepore</td>\n",
       "      <td>13.9K Subscribers</td>\n",
       "      <td>7.55M Total Views</td>\n",
       "      <td>3027 Videos</td>\n",
       "      <td>Latest Video: Dec 22 2020</td>\n",
       "    </tr>\n",
       "  </tbody>\n",
       "</table>\n",
       "</div>"
      ],
      "text/plain": [
       "                                               links                 types  \\\n",
       "0  http://www.youtube.com/channel/UCqACjGMfxB2b64...  Science & Technology   \n",
       "1  http://www.youtube.com/channel/UC284lB9rQInICX...                Gaming   \n",
       "2  http://www.youtube.com/channel/UCnUzfl8L1lF3N9...                Gaming   \n",
       "3  http://www.youtube.com/channel/UCqeFzFJuniKXZG...                Gaming   \n",
       "4  http://www.youtube.com/channel/UCyAmYyI7ud62GJ...                Gaming   \n",
       "\n",
       "              titles subscribers_summary        total_views videos_summary  \\\n",
       "0       the. Amazing   18.9K Subscribers  1.47M Total Views      94 Videos   \n",
       "1  AllOfTheAboveEnt.   7.15K Subscribers   647K Total Views     614 Videos   \n",
       "2              Gopex   8.44K Subscribers   492K Total Views     353 Videos   \n",
       "3    KINGnQUEENFLOYD   3.12K Subscribers   270K Total Views    2700 Videos   \n",
       "4       Frank Lepore   13.9K Subscribers  7.55M Total Views    3027 Videos   \n",
       "\n",
       "                  last_video  \n",
       "0  Latest Video: Dec 22 2020  \n",
       "1  Latest Video: Dec 22 2020  \n",
       "2  Latest Video: Dec 22 2020  \n",
       "3  Latest Video: Dec 22 2020  \n",
       "4  Latest Video: Dec 22 2020  "
      ]
     },
     "execution_count": 11,
     "metadata": {},
     "output_type": "execute_result"
    }
   ],
   "source": [
    "df.head()"
   ]
  },
  {
   "cell_type": "code",
   "execution_count": null,
   "metadata": {},
   "outputs": [],
   "source": [
    "df.to_csv('youtubers2.csv', index=False)"
   ]
  },
  {
   "cell_type": "markdown",
   "metadata": {},
   "source": [
    "### Adding more informations "
   ]
  },
  {
   "cell_type": "code",
   "execution_count": 9,
   "metadata": {},
   "outputs": [],
   "source": [
    "import pandas as pd\n",
    "df=pd.read_csv('youtubers2.csv')"
   ]
  },
  {
   "cell_type": "code",
   "execution_count": 118,
   "metadata": {},
   "outputs": [],
   "source": [
    "df=pd.read_csv(r'scripts.csv')\n",
    "df=df[df['URL'] !='URL']"
   ]
  },
  {
   "cell_type": "code",
   "execution_count": 119,
   "metadata": {},
   "outputs": [],
   "source": [
    "df=pd.read_csv(r'scripts.csv')\n",
    "df.isnull().sum()"
   ]
  },
  {
   "cell_type": "code",
   "execution_count": 5,
   "metadata": {},
   "outputs": [],
   "source": [
    "df=df.dropna().reset_index(drop=True)\n",
    "links=df['URL']"
   ]
  },
  {
   "cell_type": "code",
   "execution_count": 5,
   "metadata": {},
   "outputs": [],
   "source": [
    "from pytube import YouTube\n",
    "import pandas as pd"
   ]
  },
  {
   "cell_type": "code",
   "execution_count": 9,
   "metadata": {},
   "outputs": [
    {
     "data": {
      "text/plain": [
       "0"
      ]
     },
     "execution_count": 9,
     "metadata": {},
     "output_type": "execute_result"
    }
   ],
   "source": [
    "links.isnull().sum()"
   ]
  },
  {
   "cell_type": "code",
   "execution_count": 13,
   "metadata": {},
   "outputs": [],
   "source": [
    "df['views']=None\n",
    "df['posting_date']=None"
   ]
  },
  {
   "cell_type": "code",
   "execution_count": 14,
   "metadata": {},
   "outputs": [
    {
     "data": {
      "text/html": [
       "<div>\n",
       "<style scoped>\n",
       "    .dataframe tbody tr th:only-of-type {\n",
       "        vertical-align: middle;\n",
       "    }\n",
       "\n",
       "    .dataframe tbody tr th {\n",
       "        vertical-align: top;\n",
       "    }\n",
       "\n",
       "    .dataframe thead th {\n",
       "        text-align: right;\n",
       "    }\n",
       "</style>\n",
       "<table border=\"1\" class=\"dataframe\">\n",
       "  <thead>\n",
       "    <tr style=\"text-align: right;\">\n",
       "      <th></th>\n",
       "      <th>Link</th>\n",
       "      <th>URL</th>\n",
       "      <th>content</th>\n",
       "      <th>views</th>\n",
       "      <th>posting_date</th>\n",
       "    </tr>\n",
       "  </thead>\n",
       "  <tbody>\n",
       "    <tr>\n",
       "      <td>0</td>\n",
       "      <td>How Apple Just Changed the Entire Industry</td>\n",
       "      <td>https://www.youtube.com/watch?v=OuF9weSkS68&amp;t=63s</td>\n",
       "      <td>this video is brought to you by morning brew h...</td>\n",
       "      <td>None</td>\n",
       "      <td>None</td>\n",
       "    </tr>\n",
       "    <tr>\n",
       "      <td>1</td>\n",
       "      <td>Huawei - Caught Between Two Superpowers (Docum...</td>\n",
       "      <td>https://www.youtube.com/watch?v=HExhxPDOewE</td>\n",
       "      <td>hi welcome to this week's episode of cold fusi...</td>\n",
       "      <td>None</td>\n",
       "      <td>None</td>\n",
       "    </tr>\n",
       "    <tr>\n",
       "      <td>2</td>\n",
       "      <td>Quibi - The Netflix That Never Was.</td>\n",
       "      <td>https://www.youtube.com/watch?v=ro-8iPOvxD0</td>\n",
       "      <td>hi welcome to another cold fusion video in the...</td>\n",
       "      <td>None</td>\n",
       "      <td>None</td>\n",
       "    </tr>\n",
       "    <tr>\n",
       "      <td>3</td>\n",
       "      <td>Your Next iPhone Could be Made in India</td>\n",
       "      <td>https://www.youtube.com/watch?v=IQSOkB-oaNI</td>\n",
       "      <td>this video is brought to you by brilliant.org ...</td>\n",
       "      <td>None</td>\n",
       "      <td>None</td>\n",
       "    </tr>\n",
       "    <tr>\n",
       "      <td>4</td>\n",
       "      <td>From Essays to Coding, This New A.I. Can Write...</td>\n",
       "      <td>https://www.youtube.com/watch?v=Te5rOTcE4J4</td>\n",
       "      <td>this episode was brought to you by morning bre...</td>\n",
       "      <td>None</td>\n",
       "      <td>None</td>\n",
       "    </tr>\n",
       "    <tr>\n",
       "      <td>...</td>\n",
       "      <td>...</td>\n",
       "      <td>...</td>\n",
       "      <td>...</td>\n",
       "      <td>...</td>\n",
       "      <td>...</td>\n",
       "    </tr>\n",
       "    <tr>\n",
       "      <td>745</td>\n",
       "      <td>The INCOGNITO Gaming PC</td>\n",
       "      <td>https://www.youtube.com/watch?v=DGQA4gxjLr8</td>\n",
       "      <td>when crucial reached out to sponsor a build th...</td>\n",
       "      <td>None</td>\n",
       "      <td>None</td>\n",
       "    </tr>\n",
       "    <tr>\n",
       "      <td>746</td>\n",
       "      <td>This is a REALLY bad take  - WAN Show October ...</td>\n",
       "      <td>https://www.youtube.com/watch?v=Wln8fayc-3c</td>\n",
       "      <td>jeez where's my doc and welcome to the wan sho...</td>\n",
       "      <td>None</td>\n",
       "      <td>None</td>\n",
       "    </tr>\n",
       "    <tr>\n",
       "      <td>747</td>\n",
       "      <td>The ALL MSI Gaming PC!</td>\n",
       "      <td>https://www.youtube.com/watch?v=OaPt-19C2No</td>\n",
       "      <td>i think i cracked the code after all this time...</td>\n",
       "      <td>None</td>\n",
       "      <td>None</td>\n",
       "    </tr>\n",
       "    <tr>\n",
       "      <td>748</td>\n",
       "      <td>DON'T buy AirPods's?yet</td>\n",
       "      <td>https://www.youtube.com/watch?v=ThhP4ivBVMo</td>\n",
       "      <td>the airpods pros are in my opinion the gold st...</td>\n",
       "      <td>None</td>\n",
       "      <td>None</td>\n",
       "    </tr>\n",
       "    <tr>\n",
       "      <td>749</td>\n",
       "      <td>NVIDIA Surrenders! Founder's Edition RTX Cards...</td>\n",
       "      <td>https://www.youtube.com/watch?v=8gEfHD_y7Pc</td>\n",
       "      <td>actually it'll start whatever this thing decid...</td>\n",
       "      <td>None</td>\n",
       "      <td>None</td>\n",
       "    </tr>\n",
       "  </tbody>\n",
       "</table>\n",
       "<p>750 rows × 5 columns</p>\n",
       "</div>"
      ],
      "text/plain": [
       "                                                  Link  \\\n",
       "0           How Apple Just Changed the Entire Industry   \n",
       "1    Huawei - Caught Between Two Superpowers (Docum...   \n",
       "2                  Quibi - The Netflix That Never Was.   \n",
       "3              Your Next iPhone Could be Made in India   \n",
       "4    From Essays to Coding, This New A.I. Can Write...   \n",
       "..                                                 ...   \n",
       "745                            The INCOGNITO Gaming PC   \n",
       "746  This is a REALLY bad take  - WAN Show October ...   \n",
       "747                             The ALL MSI Gaming PC!   \n",
       "748                            DON'T buy AirPods's?yet   \n",
       "749  NVIDIA Surrenders! Founder's Edition RTX Cards...   \n",
       "\n",
       "                                                   URL  \\\n",
       "0    https://www.youtube.com/watch?v=OuF9weSkS68&t=63s   \n",
       "1          https://www.youtube.com/watch?v=HExhxPDOewE   \n",
       "2          https://www.youtube.com/watch?v=ro-8iPOvxD0   \n",
       "3          https://www.youtube.com/watch?v=IQSOkB-oaNI   \n",
       "4          https://www.youtube.com/watch?v=Te5rOTcE4J4   \n",
       "..                                                 ...   \n",
       "745        https://www.youtube.com/watch?v=DGQA4gxjLr8   \n",
       "746        https://www.youtube.com/watch?v=Wln8fayc-3c   \n",
       "747        https://www.youtube.com/watch?v=OaPt-19C2No   \n",
       "748        https://www.youtube.com/watch?v=ThhP4ivBVMo   \n",
       "749        https://www.youtube.com/watch?v=8gEfHD_y7Pc   \n",
       "\n",
       "                                               content views posting_date  \n",
       "0    this video is brought to you by morning brew h...  None         None  \n",
       "1    hi welcome to this week's episode of cold fusi...  None         None  \n",
       "2    hi welcome to another cold fusion video in the...  None         None  \n",
       "3    this video is brought to you by brilliant.org ...  None         None  \n",
       "4    this episode was brought to you by morning bre...  None         None  \n",
       "..                                                 ...   ...          ...  \n",
       "745  when crucial reached out to sponsor a build th...  None         None  \n",
       "746  jeez where's my doc and welcome to the wan sho...  None         None  \n",
       "747  i think i cracked the code after all this time...  None         None  \n",
       "748  the airpods pros are in my opinion the gold st...  None         None  \n",
       "749  actually it'll start whatever this thing decid...  None         None  \n",
       "\n",
       "[750 rows x 5 columns]"
      ]
     },
     "execution_count": 14,
     "metadata": {},
     "output_type": "execute_result"
    }
   ],
   "source": [
    "df"
   ]
  },
  {
   "cell_type": "code",
   "execution_count": 15,
   "metadata": {},
   "outputs": [],
   "source": [
    "for i in range(0, len(links)):\n",
    "    yt = YouTube(links[i])\n",
    "    #yt.captions.all()\n",
    "    #caption=yt.captions.get_by_language_code('a.en')\n",
    "    #         if caption==None:\n",
    "    #             df['content'][i]=None\n",
    "    #         srt =(caption.generate_srt_captions())\n",
    "    #         df['content'][i]=' '.join([i for i in srt.split('\\n') if '-->' not in i if i !='' if i.isdigit()==False])\n",
    "    df['views'][i]=yt.views\n",
    "    df['posting_date'][i]=yt.publish_date.date()\n"
   ]
  },
  {
   "cell_type": "code",
   "execution_count": 18,
   "metadata": {
    "scrolled": true
   },
   "outputs": [
    {
     "data": {
      "text/plain": [
       "Link            0\n",
       "URL             0\n",
       "content         0\n",
       "views           0\n",
       "posting_date    0\n",
       "dtype: int64"
      ]
     },
     "execution_count": 18,
     "metadata": {},
     "output_type": "execute_result"
    }
   ],
   "source": [
    "df.isnull().sum()"
   ]
  },
  {
   "cell_type": "code",
   "execution_count": 129,
   "metadata": {
    "scrolled": false
   },
   "outputs": [],
   "source": [
    "for i in range(0, len(links)):\n",
    "    try:\n",
    "        yt = YouTube(links[i])\n",
    "        #yt.captions.all()\n",
    "        #caption=yt.captions.get_by_language_code('a.en')\n",
    "#         if caption==None:\n",
    "#             df['content'][i]=None\n",
    "#         srt =(caption.generate_srt_captions())\n",
    "#         df['content'][i]=' '.join([i for i in srt.split('\\n') if '-->' not in i if i !='' if i.isdigit()==False])\n",
    "        df['views'][i]=yt.views\n",
    "        df['posting_date'][i]=yt.publish_date.date()\n",
    "    except:\n",
    "        continue\n"
   ]
  },
  {
   "cell_type": "code",
   "execution_count": 18,
   "metadata": {},
   "outputs": [
    {
     "data": {
      "text/plain": [
       "Link                                     China's War on Pollution\n",
       "URL                   https://www.youtube.com/watch?v=R24ihv5JUeU\n",
       "content         this video is sponsored by Skillshare the firs...\n",
       "views                                                     1491009\n",
       "posting_date                                           2019-03-01\n",
       "Name: 90, dtype: object"
      ]
     },
     "execution_count": 18,
     "metadata": {},
     "output_type": "execute_result"
    }
   ],
   "source": [
    "df.iloc[90]"
   ]
  },
  {
   "cell_type": "code",
   "execution_count": 138,
   "metadata": {
    "scrolled": false
   },
   "outputs": [
    {
     "data": {
      "text/html": [
       "<div>\n",
       "<style scoped>\n",
       "    .dataframe tbody tr th:only-of-type {\n",
       "        vertical-align: middle;\n",
       "    }\n",
       "\n",
       "    .dataframe tbody tr th {\n",
       "        vertical-align: top;\n",
       "    }\n",
       "\n",
       "    .dataframe thead th {\n",
       "        text-align: right;\n",
       "    }\n",
       "</style>\n",
       "<table border=\"1\" class=\"dataframe\">\n",
       "  <thead>\n",
       "    <tr style=\"text-align: right;\">\n",
       "      <th></th>\n",
       "      <th>Link</th>\n",
       "      <th>URL</th>\n",
       "      <th>content</th>\n",
       "      <th>views</th>\n",
       "      <th>posting_date</th>\n",
       "    </tr>\n",
       "  </thead>\n",
       "  <tbody>\n",
       "    <tr>\n",
       "      <td>0</td>\n",
       "      <td>How Apple Just Changed the Entire Industry</td>\n",
       "      <td>https://www.youtube.com/watch?v=OuF9weSkS68&amp;t=63s</td>\n",
       "      <td>this video is brought to you by morning brew h...</td>\n",
       "      <td>1255475</td>\n",
       "      <td>2020-11-23</td>\n",
       "    </tr>\n",
       "    <tr>\n",
       "      <td>1</td>\n",
       "      <td>Huawei - Caught Between Two Superpowers (Docum...</td>\n",
       "      <td>https://www.youtube.com/watch?v=HExhxPDOewE</td>\n",
       "      <td>hi welcome to this week's episode of cold fusi...</td>\n",
       "      <td>254080</td>\n",
       "      <td>2020-11-13</td>\n",
       "    </tr>\n",
       "    <tr>\n",
       "      <td>2</td>\n",
       "      <td>Quibi - The Netflix That Never Was.</td>\n",
       "      <td>https://www.youtube.com/watch?v=ro-8iPOvxD0</td>\n",
       "      <td>hi welcome to another cold fusion video in the...</td>\n",
       "      <td>406478</td>\n",
       "      <td>2020-11-05</td>\n",
       "    </tr>\n",
       "    <tr>\n",
       "      <td>3</td>\n",
       "      <td>Your Next iPhone Could be Made in India</td>\n",
       "      <td>https://www.youtube.com/watch?v=IQSOkB-oaNI</td>\n",
       "      <td>this video is brought to you by brilliant.org ...</td>\n",
       "      <td>312949</td>\n",
       "      <td>2020-10-23</td>\n",
       "    </tr>\n",
       "    <tr>\n",
       "      <td>4</td>\n",
       "      <td>From Essays to Coding, This New A.I. Can Write...</td>\n",
       "      <td>https://www.youtube.com/watch?v=Te5rOTcE4J4</td>\n",
       "      <td>this episode was brought to you by morning bre...</td>\n",
       "      <td>575048</td>\n",
       "      <td>2020-10-13</td>\n",
       "    </tr>\n",
       "    <tr>\n",
       "      <td>...</td>\n",
       "      <td>...</td>\n",
       "      <td>...</td>\n",
       "      <td>...</td>\n",
       "      <td>...</td>\n",
       "      <td>...</td>\n",
       "    </tr>\n",
       "    <tr>\n",
       "      <td>745</td>\n",
       "      <td>The INCOGNITO Gaming PC</td>\n",
       "      <td>https://www.youtube.com/watch?v=DGQA4gxjLr8</td>\n",
       "      <td>when crucial reached out to sponsor a build th...</td>\n",
       "      <td>346204</td>\n",
       "      <td>2020-10-07</td>\n",
       "    </tr>\n",
       "    <tr>\n",
       "      <td>746</td>\n",
       "      <td>This is a REALLY bad take  - WAN Show October ...</td>\n",
       "      <td>https://www.youtube.com/watch?v=Wln8fayc-3c</td>\n",
       "      <td>jeez where's my doc and welcome to the wan sho...</td>\n",
       "      <td>346204</td>\n",
       "      <td>2020-10-07</td>\n",
       "    </tr>\n",
       "    <tr>\n",
       "      <td>747</td>\n",
       "      <td>The ALL MSI Gaming PC!</td>\n",
       "      <td>https://www.youtube.com/watch?v=OaPt-19C2No</td>\n",
       "      <td>i think i cracked the code after all this time...</td>\n",
       "      <td>346204</td>\n",
       "      <td>2020-10-07</td>\n",
       "    </tr>\n",
       "    <tr>\n",
       "      <td>748</td>\n",
       "      <td>DON'T buy AirPods's?yet</td>\n",
       "      <td>https://www.youtube.com/watch?v=ThhP4ivBVMo</td>\n",
       "      <td>the airpods pros are in my opinion the gold st...</td>\n",
       "      <td>346204</td>\n",
       "      <td>2020-10-07</td>\n",
       "    </tr>\n",
       "    <tr>\n",
       "      <td>749</td>\n",
       "      <td>NVIDIA Surrenders! Founder's Edition RTX Cards...</td>\n",
       "      <td>https://www.youtube.com/watch?v=8gEfHD_y7Pc</td>\n",
       "      <td>actually it'll start whatever this thing decid...</td>\n",
       "      <td>346204</td>\n",
       "      <td>2020-10-07</td>\n",
       "    </tr>\n",
       "  </tbody>\n",
       "</table>\n",
       "<p>750 rows × 5 columns</p>\n",
       "</div>"
      ],
      "text/plain": [
       "                                                  Link  \\\n",
       "0           How Apple Just Changed the Entire Industry   \n",
       "1    Huawei - Caught Between Two Superpowers (Docum...   \n",
       "2                  Quibi - The Netflix That Never Was.   \n",
       "3              Your Next iPhone Could be Made in India   \n",
       "4    From Essays to Coding, This New A.I. Can Write...   \n",
       "..                                                 ...   \n",
       "745                            The INCOGNITO Gaming PC   \n",
       "746  This is a REALLY bad take  - WAN Show October ...   \n",
       "747                             The ALL MSI Gaming PC!   \n",
       "748                            DON'T buy AirPods's?yet   \n",
       "749  NVIDIA Surrenders! Founder's Edition RTX Cards...   \n",
       "\n",
       "                                                   URL  \\\n",
       "0    https://www.youtube.com/watch?v=OuF9weSkS68&t=63s   \n",
       "1          https://www.youtube.com/watch?v=HExhxPDOewE   \n",
       "2          https://www.youtube.com/watch?v=ro-8iPOvxD0   \n",
       "3          https://www.youtube.com/watch?v=IQSOkB-oaNI   \n",
       "4          https://www.youtube.com/watch?v=Te5rOTcE4J4   \n",
       "..                                                 ...   \n",
       "745        https://www.youtube.com/watch?v=DGQA4gxjLr8   \n",
       "746        https://www.youtube.com/watch?v=Wln8fayc-3c   \n",
       "747        https://www.youtube.com/watch?v=OaPt-19C2No   \n",
       "748        https://www.youtube.com/watch?v=ThhP4ivBVMo   \n",
       "749        https://www.youtube.com/watch?v=8gEfHD_y7Pc   \n",
       "\n",
       "                                               content    views posting_date  \n",
       "0    this video is brought to you by morning brew h...  1255475   2020-11-23  \n",
       "1    hi welcome to this week's episode of cold fusi...   254080   2020-11-13  \n",
       "2    hi welcome to another cold fusion video in the...   406478   2020-11-05  \n",
       "3    this video is brought to you by brilliant.org ...   312949   2020-10-23  \n",
       "4    this episode was brought to you by morning bre...   575048   2020-10-13  \n",
       "..                                                 ...      ...          ...  \n",
       "745  when crucial reached out to sponsor a build th...   346204   2020-10-07  \n",
       "746  jeez where's my doc and welcome to the wan sho...   346204   2020-10-07  \n",
       "747  i think i cracked the code after all this time...   346204   2020-10-07  \n",
       "748  the airpods pros are in my opinion the gold st...   346204   2020-10-07  \n",
       "749  actually it'll start whatever this thing decid...   346204   2020-10-07  \n",
       "\n",
       "[750 rows x 5 columns]"
      ]
     },
     "execution_count": 138,
     "metadata": {},
     "output_type": "execute_result"
    }
   ],
   "source": [
    "df.reset_index(drop=True)"
   ]
  },
  {
   "cell_type": "code",
   "execution_count": 69,
   "metadata": {},
   "outputs": [],
   "source": [
    "df['posting_date']=None"
   ]
  },
  {
   "cell_type": "code",
   "execution_count": 38,
   "metadata": {},
   "outputs": [],
   "source": [
    "df['content']=df['content']"
   ]
  },
  {
   "cell_type": "code",
   "execution_count": 40,
   "metadata": {},
   "outputs": [
    {
     "data": {
      "text/plain": [
       "Link       How Could They Mess Up This Bad... Again - $15...\n",
       "URL              https://www.youtube.com/watch?v=Gz7WMF4wWko\n",
       "content                                                 None\n",
       "Name: 891, dtype: object"
      ]
     },
     "execution_count": 40,
     "metadata": {},
     "output_type": "execute_result"
    }
   ],
   "source": [
    "df.iloc[87]"
   ]
  },
  {
   "cell_type": "code",
   "execution_count": 26,
   "metadata": {},
   "outputs": [],
   "source": [
    "df.to_csv(\"results.csv\", index=False)"
   ]
  },
  {
   "cell_type": "code",
   "execution_count": 21,
   "metadata": {},
   "outputs": [
    {
     "data": {
      "text/plain": [
       "Link            0\n",
       "URL             0\n",
       "content         0\n",
       "views           0\n",
       "posting_date    0\n",
       "dtype: int64"
      ]
     },
     "execution_count": 21,
     "metadata": {},
     "output_type": "execute_result"
    }
   ],
   "source": [
    "df.isnull().sum()"
   ]
  },
  {
   "cell_type": "code",
   "execution_count": 25,
   "metadata": {},
   "outputs": [
    {
     "data": {
      "text/plain": [
       "0      this video is brought to you by morning brew h...\n",
       "1      hi welcome to this week's episode of cold fusi...\n",
       "2      hi welcome to another cold fusion video in the...\n",
       "3      this video is brought to you by brilliant.org ...\n",
       "4      this episode was brought to you by morning bre...\n",
       "                             ...                        \n",
       "745    when crucial reached out to sponsor a build th...\n",
       "746    jeez where's my doc and welcome to the wan sho...\n",
       "747    i think i cracked the code after all this time...\n",
       "748    the airpods pros are in my opinion the gold st...\n",
       "749    actually it'll start whatever this thing decid...\n",
       "Name: content, Length: 750, dtype: object"
      ]
     },
     "execution_count": 25,
     "metadata": {},
     "output_type": "execute_result"
    }
   ],
   "source": [
    "df['content']"
   ]
  },
  {
   "cell_type": "code",
   "execution_count": 28,
   "metadata": {},
   "outputs": [],
   "source": [
    "data=pd.read_csv(r'results.csv')"
   ]
  },
  {
   "cell_type": "code",
   "execution_count": 31,
   "metadata": {},
   "outputs": [],
   "source": [
    "data=data.dropna()"
   ]
  },
  {
   "cell_type": "code",
   "execution_count": 32,
   "metadata": {},
   "outputs": [
    {
     "data": {
      "text/plain": [
       "Link                  How Power is Finally Coming to Rural Africa\n",
       "URL                   https://www.youtube.com/watch?v=gup-cgPeIzw\n",
       "content         [Music] in africa 650 million people don't hav...\n",
       "views                                                       64016\n",
       "posting_date                                             8/4/2020\n",
       "Name: 674, dtype: object"
      ]
     },
     "execution_count": 32,
     "metadata": {},
     "output_type": "execute_result"
    }
   ],
   "source": [
    "data.iloc[590]"
   ]
  },
  {
   "cell_type": "code",
   "execution_count": 33,
   "metadata": {},
   "outputs": [],
   "source": [
    "data.to_csv('res.csv')"
   ]
  },
  {
   "cell_type": "markdown",
   "metadata": {},
   "source": [
    "## Precise Collection Potential Clients"
   ]
  },
  {
   "cell_type": "code",
   "execution_count": 2,
   "metadata": {},
   "outputs": [],
   "source": [
    "import pandas as pd\n",
    "df2=pd.read_csv(r'youtubers2.csv')"
   ]
  },
  {
   "cell_type": "code",
   "execution_count": 4,
   "metadata": {},
   "outputs": [
    {
     "data": {
      "text/plain": [
       "0       http://www.youtube.com/channel/UCqACjGMfxB2b64...\n",
       "1       http://www.youtube.com/channel/UC284lB9rQInICX...\n",
       "2       http://www.youtube.com/channel/UCnUzfl8L1lF3N9...\n",
       "3       http://www.youtube.com/channel/UCqeFzFJuniKXZG...\n",
       "4       http://www.youtube.com/channel/UCyAmYyI7ud62GJ...\n",
       "                              ...                        \n",
       "1995    http://www.youtube.com/channel/UCixeYLxo6md2Mp...\n",
       "1996    http://www.youtube.com/channel/UC3mZL65KUx0tqH...\n",
       "1997    http://www.youtube.com/channel/UCSwQrcZPe1XYR7...\n",
       "1998    http://www.youtube.com/channel/UCpXXSmqzT1A8oG...\n",
       "1999    http://www.youtube.com/channel/UCBPelGM62VkZMZ...\n",
       "Name: links, Length: 2000, dtype: object"
      ]
     },
     "execution_count": 4,
     "metadata": {},
     "output_type": "execute_result"
    }
   ],
   "source": [
    "df2['links']"
   ]
  },
  {
   "cell_type": "code",
   "execution_count": 5,
   "metadata": {},
   "outputs": [],
   "source": [
    "import pandas as pd\n",
    "import json\n",
    "from bs4 import BeautifulSoup as bs\n",
    "import requests\n",
    "import urllib.request\n",
    "df2=pd.read_csv(r'youtubers2.csv')\n",
    "total_urls=pd.DataFrame()\n",
    "\n",
    "links=[]\n",
    "for i in df2['links']:\n",
    "    links.append(i+\"/videos\")"
   ]
  },
  {
   "cell_type": "code",
   "execution_count": 8,
   "metadata": {},
   "outputs": [],
   "source": [
    "links=links[:500]"
   ]
  },
  {
   "cell_type": "code",
   "execution_count": 9,
   "metadata": {},
   "outputs": [],
   "source": [
    "url=[]\n",
    "for i in range(len(links)):\n",
    "    try:\n",
    "        r=requests.get(links[i])\n",
    "        soup=bs(r.text, \"html.parser\")\n",
    "        script=soup.find_all('script')[27]\n",
    "        res=str(script).split(':')\n",
    "        j=0\n",
    "        for z in res:\n",
    "            if \"watch?v=\" in z and j<10:\n",
    "                j=j+1\n",
    "                url.append(z[1:21])              \n",
    "    except:\n",
    "        continue  "
   ]
  },
  {
   "cell_type": "code",
   "execution_count": 11,
   "metadata": {},
   "outputs": [
    {
     "data": {
      "text/plain": [
       "4977"
      ]
     },
     "execution_count": 11,
     "metadata": {},
     "output_type": "execute_result"
    }
   ],
   "source": [
    "len(url)"
   ]
  },
  {
   "cell_type": "code",
   "execution_count": 13,
   "metadata": {},
   "outputs": [],
   "source": [
    "total_urls['urls']=url"
   ]
  },
  {
   "cell_type": "code",
   "execution_count": 14,
   "metadata": {},
   "outputs": [
    {
     "data": {
      "text/plain": [
       "(4977, 1)"
      ]
     },
     "execution_count": 14,
     "metadata": {},
     "output_type": "execute_result"
    }
   ],
   "source": [
    "total_urls.shape"
   ]
  },
  {
   "cell_type": "code",
   "execution_count": 15,
   "metadata": {},
   "outputs": [],
   "source": [
    "total_urls.to_csv('total_urls.csv', index=False)"
   ]
  },
  {
   "cell_type": "markdown",
   "metadata": {},
   "source": [
    "### collect videos information for per youtuber"
   ]
  },
  {
   "cell_type": "code",
   "execution_count": 93,
   "metadata": {
    "scrolled": true
   },
   "outputs": [
    {
     "data": {
      "text/plain": [
       "(4977, 1)"
      ]
     },
     "execution_count": 93,
     "metadata": {},
     "output_type": "execute_result"
    }
   ],
   "source": [
    "data=pd.read_csv('total_urls.csv')\n",
    "data.shape\n",
    "data=data.drop_duplicates().reset_index(drop=True)\n",
    "data['urls'].isnull().sum()\n",
    "url=data['urls']"
   ]
  },
  {
   "cell_type": "code",
   "execution_count": 97,
   "metadata": {},
   "outputs": [
    {
     "data": {
      "text/plain": [
       "4850"
      ]
     },
     "execution_count": 97,
     "metadata": {},
     "output_type": "execute_result"
    }
   ],
   "source": [
    "len(url)"
   ]
  },
  {
   "cell_type": "code",
   "execution_count": 102,
   "metadata": {},
   "outputs": [],
   "source": [
    "total_links=[\"http://www.youtube.com\"+i  for i in url]\n",
    "from pytube import YouTube\n",
    "import pandas as pd\n",
    "# new=pd.DataFrame()"
   ]
  },
  {
   "cell_type": "code",
   "execution_count": 103,
   "metadata": {
    "scrolled": true
   },
   "outputs": [
    {
     "data": {
      "text/plain": [
       "4850"
      ]
     },
     "execution_count": 103,
     "metadata": {},
     "output_type": "execute_result"
    }
   ],
   "source": [
    "len(total_links)"
   ]
  },
  {
   "cell_type": "code",
   "execution_count": 104,
   "metadata": {},
   "outputs": [],
   "source": [
    "total_links=total_links[2002:3002]"
   ]
  },
  {
   "cell_type": "code",
   "execution_count": 105,
   "metadata": {},
   "outputs": [
    {
     "data": {
      "text/plain": [
       "'http://www.youtube.com/watch?v=kALYA6MbU4M'"
      ]
     },
     "execution_count": 105,
     "metadata": {},
     "output_type": "execute_result"
    }
   ],
   "source": [
    "total_links[0]"
   ]
  },
  {
   "cell_type": "code",
   "execution_count": 72,
   "metadata": {},
   "outputs": [
    {
     "data": {
      "text/html": [
       "<div>\n",
       "<style scoped>\n",
       "    .dataframe tbody tr th:only-of-type {\n",
       "        vertical-align: middle;\n",
       "    }\n",
       "\n",
       "    .dataframe tbody tr th {\n",
       "        vertical-align: top;\n",
       "    }\n",
       "\n",
       "    .dataframe thead th {\n",
       "        text-align: right;\n",
       "    }\n",
       "</style>\n",
       "<table border=\"1\" class=\"dataframe\">\n",
       "  <thead>\n",
       "    <tr style=\"text-align: right;\">\n",
       "      <th></th>\n",
       "      <th>author</th>\n",
       "      <th>description</th>\n",
       "      <th>rating</th>\n",
       "      <th>length</th>\n",
       "      <th>views</th>\n",
       "      <th>posting_date</th>\n",
       "    </tr>\n",
       "  </thead>\n",
       "  <tbody>\n",
       "    <tr>\n",
       "      <td>0</td>\n",
       "      <td>the. Amazing</td>\n",
       "      <td>My Patreon: https://www.patreon.com/theamazing</td>\n",
       "      <td>5.000000</td>\n",
       "      <td>787</td>\n",
       "      <td>705</td>\n",
       "      <td>2020-12-25</td>\n",
       "    </tr>\n",
       "    <tr>\n",
       "      <td>1</td>\n",
       "      <td>the. Amazing</td>\n",
       "      <td>My Patreon: https://www.patreon.com/theamazing</td>\n",
       "      <td>5.000000</td>\n",
       "      <td>888</td>\n",
       "      <td>547</td>\n",
       "      <td>2020-12-24</td>\n",
       "    </tr>\n",
       "    <tr>\n",
       "      <td>2</td>\n",
       "      <td>the. Amazing</td>\n",
       "      <td>Edited by Garrett</td>\n",
       "      <td>4.905882</td>\n",
       "      <td>142</td>\n",
       "      <td>498</td>\n",
       "      <td>2020-12-23</td>\n",
       "    </tr>\n",
       "    <tr>\n",
       "      <td>3</td>\n",
       "      <td>the. Amazing</td>\n",
       "      <td>Also a tutorial sort of\\n\\nMy Patreon: https:/...</td>\n",
       "      <td>4.951220</td>\n",
       "      <td>1180</td>\n",
       "      <td>1824</td>\n",
       "      <td>2020-12-22</td>\n",
       "    </tr>\n",
       "    <tr>\n",
       "      <td>4</td>\n",
       "      <td>the. Amazing</td>\n",
       "      <td>STLs are available on My Patreon: https://www....</td>\n",
       "      <td>4.972789</td>\n",
       "      <td>741</td>\n",
       "      <td>940</td>\n",
       "      <td>2020-12-15</td>\n",
       "    </tr>\n",
       "  </tbody>\n",
       "</table>\n",
       "</div>"
      ],
      "text/plain": [
       "         author                                        description    rating  \\\n",
       "0  the. Amazing     My Patreon: https://www.patreon.com/theamazing  5.000000   \n",
       "1  the. Amazing     My Patreon: https://www.patreon.com/theamazing  5.000000   \n",
       "2  the. Amazing                                  Edited by Garrett  4.905882   \n",
       "3  the. Amazing  Also a tutorial sort of\\n\\nMy Patreon: https:/...  4.951220   \n",
       "4  the. Amazing  STLs are available on My Patreon: https://www....  4.972789   \n",
       "\n",
       "   length  views posting_date  \n",
       "0     787    705   2020-12-25  \n",
       "1     888    547   2020-12-24  \n",
       "2     142    498   2020-12-23  \n",
       "3    1180   1824   2020-12-22  \n",
       "4     741    940   2020-12-15  "
      ]
     },
     "execution_count": 72,
     "metadata": {},
     "output_type": "execute_result"
    }
   ],
   "source": [
    "# new=pd.read_csv('new.csv')\n",
    "# new"
   ]
  },
  {
   "cell_type": "code",
   "execution_count": 80,
   "metadata": {
    "scrolled": true
   },
   "outputs": [],
   "source": [
    "# new2.head()\n",
    "# total_res=pd.concat([new, new2])"
   ]
  },
  {
   "cell_type": "code",
   "execution_count": 106,
   "metadata": {
    "scrolled": true
   },
   "outputs": [],
   "source": [
    "# new2.tail()"
   ]
  },
  {
   "cell_type": "code",
   "execution_count": 107,
   "metadata": {},
   "outputs": [],
   "source": [
    "author=[]\n",
    "description=[]\n",
    "rating=[]\n",
    "length=[]\n",
    "views=[]\n",
    "posting_date=[]\n",
    "for i in range(len(total_links)):\n",
    "    try:\n",
    "        yt = YouTube(total_links[i])\n",
    "        author.append(yt.author)\n",
    "        description.append(yt.description)\n",
    "        rating.append(yt.rating)\n",
    "        length.append(yt.length)  \n",
    "        views.append(yt.views)\n",
    "        posting_date.append(yt.publish_date.date())\n",
    "    except:\n",
    "        continue"
   ]
  },
  {
   "cell_type": "code",
   "execution_count": 108,
   "metadata": {
    "scrolled": true
   },
   "outputs": [
    {
     "data": {
      "text/plain": [
       "(149, 149, 149, 149, 149)"
      ]
     },
     "execution_count": 108,
     "metadata": {},
     "output_type": "execute_result"
    }
   ],
   "source": [
    "len(author), len(description), len(rating), len(views), len(posting_date)"
   ]
  },
  {
   "cell_type": "code",
   "execution_count": 110,
   "metadata": {},
   "outputs": [],
   "source": [
    "new3=pd.DataFrame()\n",
    "new3['author']=author\n",
    "new3['description']=description\n",
    "new3['rating']=rating\n",
    "new3['length']=length\n",
    "new3['views']=views\n",
    "new3['posting_date']=posting_date "
   ]
  },
  {
   "cell_type": "code",
   "execution_count": 113,
   "metadata": {},
   "outputs": [],
   "source": [
    "total_res=pd.concat([total_res, new3])"
   ]
  },
  {
   "cell_type": "code",
   "execution_count": 116,
   "metadata": {
    "scrolled": true
   },
   "outputs": [],
   "source": [
    "total_res.to_csv('total_res.csv', index=False)"
   ]
  },
  {
   "cell_type": "code",
   "execution_count": null,
   "metadata": {},
   "outputs": [],
   "source": [
    "# new2=pd.concat([new, new2])"
   ]
  },
  {
   "cell_type": "code",
   "execution_count": 67,
   "metadata": {},
   "outputs": [
    {
     "data": {
      "text/html": [
       "<div>\n",
       "<style scoped>\n",
       "    .dataframe tbody tr th:only-of-type {\n",
       "        vertical-align: middle;\n",
       "    }\n",
       "\n",
       "    .dataframe tbody tr th {\n",
       "        vertical-align: top;\n",
       "    }\n",
       "\n",
       "    .dataframe thead th {\n",
       "        text-align: right;\n",
       "    }\n",
       "</style>\n",
       "<table border=\"1\" class=\"dataframe\">\n",
       "  <thead>\n",
       "    <tr style=\"text-align: right;\">\n",
       "      <th></th>\n",
       "      <th>author</th>\n",
       "      <th>description</th>\n",
       "      <th>rating</th>\n",
       "      <th>views</th>\n",
       "      <th>posting_date</th>\n",
       "    </tr>\n",
       "  </thead>\n",
       "  <tbody>\n",
       "    <tr>\n",
       "      <td>0</td>\n",
       "      <td>PandaJock Slots</td>\n",
       "      <td>I call Rising Fortunes one of the most volatil...</td>\n",
       "      <td>4.747368</td>\n",
       "      <td>2960</td>\n",
       "      <td>2020-12-22</td>\n",
       "    </tr>\n",
       "    <tr>\n",
       "      <td>1</td>\n",
       "      <td>PandaJock Slots</td>\n",
       "      <td>Of all the original Fire Link machines, China ...</td>\n",
       "      <td>4.738776</td>\n",
       "      <td>3613</td>\n",
       "      <td>2020-12-21</td>\n",
       "    </tr>\n",
       "    <tr>\n",
       "      <td>2</td>\n",
       "      <td>PandaJock Slots</td>\n",
       "      <td>Having decided that Buffalo Grand is the lates...</td>\n",
       "      <td>4.764706</td>\n",
       "      <td>2121</td>\n",
       "      <td>2020-12-20</td>\n",
       "    </tr>\n",
       "    <tr>\n",
       "      <td>3</td>\n",
       "      <td>PandaJock Slots</td>\n",
       "      <td>Will Patrice Pumpkin come through for me on Pi...</td>\n",
       "      <td>4.890411</td>\n",
       "      <td>3062</td>\n",
       "      <td>2020-12-19</td>\n",
       "    </tr>\n",
       "    <tr>\n",
       "      <td>4</td>\n",
       "      <td>PandaJock Slots</td>\n",
       "      <td>These Dragon’s machines look the same! 😂. I di...</td>\n",
       "      <td>4.767196</td>\n",
       "      <td>3310</td>\n",
       "      <td>2020-12-18</td>\n",
       "    </tr>\n",
       "  </tbody>\n",
       "</table>\n",
       "</div>"
      ],
      "text/plain": [
       "            author                                        description  \\\n",
       "0  PandaJock Slots  I call Rising Fortunes one of the most volatil...   \n",
       "1  PandaJock Slots  Of all the original Fire Link machines, China ...   \n",
       "2  PandaJock Slots  Having decided that Buffalo Grand is the lates...   \n",
       "3  PandaJock Slots  Will Patrice Pumpkin come through for me on Pi...   \n",
       "4  PandaJock Slots  These Dragon’s machines look the same! 😂. I di...   \n",
       "\n",
       "     rating  views posting_date  \n",
       "0  4.747368   2960   2020-12-22  \n",
       "1  4.738776   3613   2020-12-21  \n",
       "2  4.764706   2121   2020-12-20  \n",
       "3  4.890411   3062   2020-12-19  \n",
       "4  4.767196   3310   2020-12-18  "
      ]
     },
     "execution_count": 67,
     "metadata": {},
     "output_type": "execute_result"
    }
   ],
   "source": [
    "new2.to_csv('new2.csv'index=False)"
   ]
  },
  {
   "cell_type": "code",
   "execution_count": 24,
   "metadata": {},
   "outputs": [],
   "source": [
    "new['author']=author\n",
    "new['description']=description\n",
    "new['rating']=rating\n",
    "new['length']=length  \n",
    "new['views']=views\n",
    "new['posting_date']= posting_date"
   ]
  },
  {
   "cell_type": "code",
   "execution_count": 68,
   "metadata": {},
   "outputs": [],
   "source": [
    "for i in range(len(total_links)):\n",
    "    try:\n",
    "        yt = YouTube(total_links[i])\n",
    "        new['author'][i]=yt.author\n",
    "        new['description'][i]=yt.description\n",
    "        new['rating'][i]=yt.rating\n",
    "        new['length'][i]=yt.length      \n",
    "        new['views'][i]=yt.views\n",
    "        new['posting_date'][i]=yt.publish_date.date()\n",
    "    except:\n",
    "        continue"
   ]
  },
  {
   "cell_type": "code",
   "execution_count": 27,
   "metadata": {},
   "outputs": [],
   "source": [
    "# Finally got the data set of our potential clients and move to next step to do analysis.\n",
    "new.to_csv('new.csv', index=False)"
   ]
  },
  {
   "cell_type": "code",
   "execution_count": null,
   "metadata": {},
   "outputs": [],
   "source": []
  }
 ],
 "metadata": {
  "kernelspec": {
   "display_name": "Python 3",
   "language": "python",
   "name": "python3"
  },
  "language_info": {
   "codemirror_mode": {
    "name": "ipython",
    "version": 3
   },
   "file_extension": ".py",
   "mimetype": "text/x-python",
   "name": "python",
   "nbconvert_exporter": "python",
   "pygments_lexer": "ipython3",
   "version": "3.7.4"
  }
 },
 "nbformat": 4,
 "nbformat_minor": 2
}
